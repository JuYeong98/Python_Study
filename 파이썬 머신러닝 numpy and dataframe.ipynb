{
 "cells": [
  {
   "cell_type": "code",
   "execution_count": 6,
   "id": "e0b045b6",
   "metadata": {},
   "outputs": [
    {
     "name": "stdout",
     "output_type": "stream",
     "text": [
      "1\n",
      "2\n",
      "int32\n",
      "int32\n",
      "[1. 2. 3.]\n",
      "float64\n",
      "[0 1 2 3 4 5 6 7 8 9]\n",
      "int32 (10,)\n"
     ]
    }
   ],
   "source": [
    "import numpy as np\n",
    "array1= np.array([1,2,3]) #shape(3,)\n",
    "array2= np.array([[1,2,3],\n",
    "                  [4,5,6]]) #shape(2,3)\n",
    "array3= array1.astype('float64')\n",
    "print(array1.ndim)\n",
    "print(array2.ndim) #print dimension of array\n",
    "print(array1.dtype)\n",
    "print(array2.dtype)\n",
    "print(array3)\n",
    "print(array3.dtype)#check the array3's type \n",
    "array4= np.arange(10)\n",
    "print(array4)\n",
    "print(array4.dtype , array4.shape)"
   ]
  },
  {
   "cell_type": "code",
   "execution_count": 8,
   "id": "f0635809",
   "metadata": {},
   "outputs": [
    {
     "name": "stdout",
     "output_type": "stream",
     "text": [
      "int32 (4, 3)\n"
     ]
    }
   ],
   "source": [
    "array5= np.zeros((4,3), dtype = 'int32')\n",
    "array6= np.ones((4,3))\n",
    "print(array5.dtype,array5.shape)"
   ]
  },
  {
   "cell_type": "code",
   "execution_count": 12,
   "id": "e9b05264",
   "metadata": {},
   "outputs": [
    {
     "name": "stdout",
     "output_type": "stream",
     "text": [
      "array7: [0 1 2 3 4 5 6 7]\n",
      "array8: [[0 1 2 3]\n",
      " [4 5 6 7]]\n",
      "array9: [[0 1]\n",
      " [2 3]\n",
      " [4 5]\n",
      " [6 7]]\n",
      "array3d:  [[[0 1]\n",
      "  [2 3]]\n",
      "\n",
      " [[4 5]\n",
      "  [6 7]]]\n",
      "array10:  [[0]\n",
      " [1]\n",
      " [2]\n",
      " [3]\n",
      " [4]\n",
      " [5]\n",
      " [6]\n",
      " [7]]\n"
     ]
    }
   ],
   "source": [
    "array7= np.arange(8)  #nomal array\n",
    "print('array7:',array7)\n",
    "array8 = array7.reshape(2,4)  #reshaped array with 2x5\n",
    "print('array8:',array8)\n",
    "array9 = array7.reshape(4,2)  #reshaped array with 5x2\n",
    "print('array9:',array9)\n",
    "array3d = array7.reshape(2,2,2)\n",
    "print('array3d: ' ,array3d)\n",
    "array10 = array3d.reshape(-1,1)\n",
    "print('array10: ', array10)"
   ]
  },
  {
   "cell_type": "code",
   "execution_count": 15,
   "id": "6d150614",
   "metadata": {},
   "outputs": [
    {
     "name": "stdout",
     "output_type": "stream",
     "text": [
      "array:  [1 2 3 4 5 6 7 8 9]\n",
      "value : 4\n",
      "<class 'numpy.int32'>\n"
     ]
    }
   ],
   "source": [
    "import numpy as np\n",
    "array = np.arange(start=1, stop=10)\n",
    "print('array: ', array)\n",
    "\n",
    "v= array[3]\n",
    "print('value :', v)\n",
    "print(type(v))"
   ]
  },
  {
   "cell_type": "code",
   "execution_count": 16,
   "id": "6978bf2f",
   "metadata": {},
   "outputs": [
    {
     "name": "stdout",
     "output_type": "stream",
     "text": [
      "[[1 2 3]\n",
      " [4 5 6]\n",
      " [7 8 9]]\n",
      "(row=2, column=2) index 가르키는 값:  9\n"
     ]
    }
   ],
   "source": [
    "array1d = np.arange(start=1, stop =10)\n",
    "array2d= array1d.reshape(3,3)\n",
    "print(array2d)\n",
    "\n",
    "print('(row=2, column=2) index 가르키는 값: ', array2d[2,2])"
   ]
  },
  {
   "cell_type": "code",
   "execution_count": 18,
   "id": "e389067e",
   "metadata": {},
   "outputs": [
    {
     "name": "stdout",
     "output_type": "stream",
     "text": [
      "[6 7 8 9]\n",
      "[False False False False False  True  True  True  True]\n"
     ]
    }
   ],
   "source": [
    "array1d = np.arange(start=1, stop=10)\n",
    "# [ ] 안에 array1d > 5 Boolean indexing을 적용\n",
    "array3= array1d[array1d>5]\n",
    "print(array3)\n",
    "print(array1d>5)"
   ]
  },
  {
   "cell_type": "code",
   "execution_count": 21,
   "id": "f08585f1",
   "metadata": {},
   "outputs": [
    {
     "name": "stdout",
     "output_type": "stream",
     "text": [
      "필터링 결과 : [6 7 8 9]\n"
     ]
    }
   ],
   "source": [
    "boolean_indexes= np.array([False, False, False, False, False, True, True, True, True])\n",
    "array3 = array1d[boolean_indexes]\n",
    "print('필터링 결과 :', array3)"
   ]
  },
  {
   "cell_type": "code",
   "execution_count": 24,
   "id": "28ebaaf9",
   "metadata": {},
   "outputs": [
    {
     "name": "stdout",
     "output_type": "stream",
     "text": [
      "필터링 결과 : [6 7 8 9]\n"
     ]
    }
   ],
   "source": [
    "indexes = np.array([5,6,7,8])\n",
    "array4 = array1d[indexes]\n",
    "print('필터링 결과 :',array4)"
   ]
  },
  {
   "cell_type": "code",
   "execution_count": 26,
   "id": "6f3608f5",
   "metadata": {},
   "outputs": [
    {
     "name": "stdout",
     "output_type": "stream",
     "text": [
      "origianl arr : [  3   2  43 242  23]\n",
      "sorted arr:  [  2   3  23  43 242]\n",
      "original arr:  [  2   3  23  43 242]\n",
      "sorted arr:  None\n"
     ]
    }
   ],
   "source": [
    "original_arr =  np.array([3,2,43,242,23])\n",
    "print('origianl arr :', original_arr)\n",
    "#sort with np.sort()\n",
    "sorted_arr = np.sort(original_arr)\n",
    "print('sorted arr: ', sorted_arr)\n",
    "#sort with ndarray.sort()\n",
    "sorted_arr2 = original_arr.sort()\n",
    "print('original arr: ',original_arr)\n",
    "print('sorted arr: ', sorted_arr2)"
   ]
  },
  {
   "cell_type": "code",
   "execution_count": 38,
   "id": "3a435730",
   "metadata": {},
   "outputs": [
    {
     "name": "stdout",
     "output_type": "stream",
     "text": [
      "   PassengerId  Survived  Pclass  \\\n",
      "0            1         0       3   \n",
      "1            2         1       1   \n",
      "2            3         1       3   \n",
      "\n",
      "                                                Name     Sex   Age  SibSp  \\\n",
      "0                            Braund, Mr. Owen Harris    male  22.0      1   \n",
      "1  Cumings, Mrs. John Bradley (Florence Briggs Th...  female  38.0      1   \n",
      "2                             Heikkinen, Miss. Laina  female  26.0      0   \n",
      "\n",
      "   Parch            Ticket     Fare Cabin Embarked  \n",
      "0      0         A/5 21171   7.2500   NaN        S  \n",
      "1      0          PC 17599  71.2833   C85        C  \n",
      "2      0  STON/O2. 3101282   7.9250   NaN        S  \n",
      "DataFrame size : (891, 12)\n",
      "<class 'pandas.core.frame.DataFrame'>\n",
      "RangeIndex: 891 entries, 0 to 890\n",
      "Data columns (total 12 columns):\n",
      " #   Column       Non-Null Count  Dtype  \n",
      "---  ------       --------------  -----  \n",
      " 0   PassengerId  891 non-null    int64  \n",
      " 1   Survived     891 non-null    int64  \n",
      " 2   Pclass       891 non-null    int64  \n",
      " 3   Name         891 non-null    object \n",
      " 4   Sex          891 non-null    object \n",
      " 5   Age          714 non-null    float64\n",
      " 6   SibSp        891 non-null    int64  \n",
      " 7   Parch        891 non-null    int64  \n",
      " 8   Ticket       891 non-null    object \n",
      " 9   Fare         891 non-null    float64\n",
      " 10  Cabin        204 non-null    object \n",
      " 11  Embarked     889 non-null    object \n",
      "dtypes: float64(2), int64(5), object(5)\n",
      "memory usage: 66.2+ KB\n",
      "DataFrame info : None\n",
      "DataFrame describe:         PassengerId    Survived      Pclass         Age       SibSp  \\\n",
      "count   891.000000  891.000000  891.000000  714.000000  891.000000   \n",
      "mean    446.000000    0.383838    2.308642   29.699118    0.523008   \n",
      "std     257.353842    0.486592    0.836071   14.526497    1.102743   \n",
      "min       1.000000    0.000000    1.000000    0.420000    0.000000   \n",
      "25%     223.500000    0.000000    2.000000   20.125000    0.000000   \n",
      "50%     446.000000    0.000000    3.000000   28.000000    0.000000   \n",
      "75%     668.500000    1.000000    3.000000   38.000000    1.000000   \n",
      "max     891.000000    1.000000    3.000000   80.000000    8.000000   \n",
      "\n",
      "            Parch        Fare  \n",
      "count  891.000000  891.000000  \n",
      "mean     0.381594   32.204208  \n",
      "std      0.806057   49.693429  \n",
      "min      0.000000    0.000000  \n",
      "25%      0.000000    7.910400  \n",
      "50%      0.000000   14.454200  \n",
      "75%      0.000000   31.000000  \n",
      "max      6.000000  512.329200  \n",
      "value counts:  3    491\n",
      "1    216\n",
      "2    184\n",
      "Name: Pclass, dtype: int64\n",
      "RangeIndex(start=0, stop=891, step=1)\n",
      "Index 객체 array: [  0   1   2   3   4   5   6   7   8   9  10  11  12  13  14  15  16  17\n",
      "  18  19  20  21  22  23  24  25  26  27  28  29  30  31  32  33  34  35\n",
      "  36  37  38  39  40  41  42  43  44  45  46  47  48  49  50  51  52  53\n",
      "  54  55  56  57  58  59  60  61  62  63  64  65  66  67  68  69  70  71\n",
      "  72  73  74  75  76  77  78  79  80  81  82  83  84  85  86  87  88  89\n",
      "  90  91  92  93  94  95  96  97  98  99 100 101 102 103 104 105 106 107\n",
      " 108 109 110 111 112 113 114 115 116 117 118 119 120 121 122 123 124 125\n",
      " 126 127 128 129 130 131 132 133 134 135 136 137 138 139 140 141 142 143\n",
      " 144 145 146 147 148 149 150 151 152 153 154 155 156 157 158 159 160 161\n",
      " 162 163 164 165 166 167 168 169 170 171 172 173 174 175 176 177 178 179\n",
      " 180 181 182 183 184 185 186 187 188 189 190 191 192 193 194 195 196 197\n",
      " 198 199 200 201 202 203 204 205 206 207 208 209 210 211 212 213 214 215\n",
      " 216 217 218 219 220 221 222 223 224 225 226 227 228 229 230 231 232 233\n",
      " 234 235 236 237 238 239 240 241 242 243 244 245 246 247 248 249 250 251\n",
      " 252 253 254 255 256 257 258 259 260 261 262 263 264 265 266 267 268 269\n",
      " 270 271 272 273 274 275 276 277 278 279 280 281 282 283 284 285 286 287\n",
      " 288 289 290 291 292 293 294 295 296 297 298 299 300 301 302 303 304 305\n",
      " 306 307 308 309 310 311 312 313 314 315 316 317 318 319 320 321 322 323\n",
      " 324 325 326 327 328 329 330 331 332 333 334 335 336 337 338 339 340 341\n",
      " 342 343 344 345 346 347 348 349 350 351 352 353 354 355 356 357 358 359\n",
      " 360 361 362 363 364 365 366 367 368 369 370 371 372 373 374 375 376 377\n",
      " 378 379 380 381 382 383 384 385 386 387 388 389 390 391 392 393 394 395\n",
      " 396 397 398 399 400 401 402 403 404 405 406 407 408 409 410 411 412 413\n",
      " 414 415 416 417 418 419 420 421 422 423 424 425 426 427 428 429 430 431\n",
      " 432 433 434 435 436 437 438 439 440 441 442 443 444 445 446 447 448 449\n",
      " 450 451 452 453 454 455 456 457 458 459 460 461 462 463 464 465 466 467\n",
      " 468 469 470 471 472 473 474 475 476 477 478 479 480 481 482 483 484 485\n",
      " 486 487 488 489 490 491 492 493 494 495 496 497 498 499 500 501 502 503\n",
      " 504 505 506 507 508 509 510 511 512 513 514 515 516 517 518 519 520 521\n",
      " 522 523 524 525 526 527 528 529 530 531 532 533 534 535 536 537 538 539\n",
      " 540 541 542 543 544 545 546 547 548 549 550 551 552 553 554 555 556 557\n",
      " 558 559 560 561 562 563 564 565 566 567 568 569 570 571 572 573 574 575\n",
      " 576 577 578 579 580 581 582 583 584 585 586 587 588 589 590 591 592 593\n",
      " 594 595 596 597 598 599 600 601 602 603 604 605 606 607 608 609 610 611\n",
      " 612 613 614 615 616 617 618 619 620 621 622 623 624 625 626 627 628 629\n",
      " 630 631 632 633 634 635 636 637 638 639 640 641 642 643 644 645 646 647\n",
      " 648 649 650 651 652 653 654 655 656 657 658 659 660 661 662 663 664 665\n",
      " 666 667 668 669 670 671 672 673 674 675 676 677 678 679 680 681 682 683\n",
      " 684 685 686 687 688 689 690 691 692 693 694 695 696 697 698 699 700 701\n",
      " 702 703 704 705 706 707 708 709 710 711 712 713 714 715 716 717 718 719\n",
      " 720 721 722 723 724 725 726 727 728 729 730 731 732 733 734 735 736 737\n",
      " 738 739 740 741 742 743 744 745 746 747 748 749 750 751 752 753 754 755\n",
      " 756 757 758 759 760 761 762 763 764 765 766 767 768 769 770 771 772 773\n",
      " 774 775 776 777 778 779 780 781 782 783 784 785 786 787 788 789 790 791\n",
      " 792 793 794 795 796 797 798 799 800 801 802 803 804 805 806 807 808 809\n",
      " 810 811 812 813 814 815 816 817 818 819 820 821 822 823 824 825 826 827\n",
      " 828 829 830 831 832 833 834 835 836 837 838 839 840 841 842 843 844 845\n",
      " 846 847 848 849 850 851 852 853 854 855 856 857 858 859 860 861 862 863\n",
      " 864 865 866 867 868 869 870 871 872 873 874 875 876 877 878 879 880 881\n",
      " 882 883 884 885 886 887 888 889 890]\n"
     ]
    }
   ],
   "source": [
    "import pandas as pd\n",
    "\n",
    "titanic_df = pd.read_csv(r'C:\\Users\\chan\\PerfectGuide-master\\PerfectGuide-master\\1장\\titanic\\train.csv')\n",
    "\n",
    "print(titanic_df.head(3))\n",
    "print('DataFrame size :', titanic_df.shape)\n",
    "print('DataFrame info :' ,titanic_df.info())\n",
    "print('DataFrame describe: ',titanic_df.describe())\n",
    "value_counts = titanic_df['Pclass'].value_counts()\n",
    "print('value counts: ', value_counts)\n",
    "indexes = titanic_df.index\n",
    "# Index 객체 추출\n",
    "print(indexes)\n",
    "# Index 객체를 실제 값 abray로 변환\n",
    "print('Index 객체 array:', indexes.values)"
   ]
  },
  {
   "cell_type": "code",
   "execution_count": 42,
   "id": "0e43e784",
   "metadata": {},
   "outputs": [
    {
     "name": "stdout",
     "output_type": "stream",
     "text": [
      "        PassengerId  Survived  Name  Sex  Age  SibSp  Parch  Ticket  Fare  \\\n",
      "Pclass                                                                      \n",
      "1               216       216   216  216  186    216    216     216   216   \n",
      "2               184       184   184  184  173    184    184     184   184   \n",
      "3               491       491   491  491  355    491    491     491   491   \n",
      "\n",
      "        Cabin  Embarked  \n",
      "Pclass                   \n",
      "1         176       214  \n",
      "2          16       184  \n",
      "3          12       491  \n"
     ]
    }
   ],
   "source": [
    "titanic_groupby = titanic_df.groupby(by = 'Pclass').count()\n",
    "print(titanic_groupby)"
   ]
  },
  {
   "cell_type": "code",
   "execution_count": 43,
   "id": "e7080530",
   "metadata": {},
   "outputs": [
    {
     "name": "stdout",
     "output_type": "stream",
     "text": [
      "        PassengerId  Survived\n",
      "Pclass                       \n",
      "1               216       216\n",
      "2               184       184\n",
      "3               491       491\n"
     ]
    }
   ],
   "source": [
    "titanic_groupby2 = titanic_df.groupby(by='Pclass')[['PassengerId','Survived']].count()\n",
    "print(titanic_groupby2)"
   ]
  },
  {
   "cell_type": "code",
   "execution_count": 44,
   "id": "90a5dda1",
   "metadata": {},
   "outputs": [
    {
     "name": "stdout",
     "output_type": "stream",
     "text": [
      "         max   min\n",
      "Pclass            \n",
      "1       80.0  0.92\n",
      "2       70.0  0.67\n",
      "3       74.0  0.42\n"
     ]
    }
   ],
   "source": [
    "print(titanic_df.groupby(by='Pclass')['Age'].agg(['max','min']))"
   ]
  },
  {
   "cell_type": "code",
   "execution_count": 46,
   "id": "f4ad1943",
   "metadata": {},
   "outputs": [
    {
     "name": "stdout",
     "output_type": "stream",
     "text": [
      "         Age  SibSp       Fare\n",
      "Pclass                        \n",
      "1       80.0     90  84.154687\n",
      "2       70.0     74  20.662183\n",
      "3       74.0    302  13.675550\n"
     ]
    }
   ],
   "source": [
    "agg_format={'Age':'max', 'SibSp':'sum', 'Fare': 'mean'}\n",
    "print(titanic_df.groupby('Pclass').agg(agg_format))"
   ]
  },
  {
   "cell_type": "code",
   "execution_count": null,
   "id": "7f0980a1",
   "metadata": {},
   "outputs": [],
   "source": []
  }
 ],
 "metadata": {
  "kernelspec": {
   "display_name": "Python 3",
   "language": "python",
   "name": "python3"
  },
  "language_info": {
   "codemirror_mode": {
    "name": "ipython",
    "version": 3
   },
   "file_extension": ".py",
   "mimetype": "text/x-python",
   "name": "python",
   "nbconvert_exporter": "python",
   "pygments_lexer": "ipython3",
   "version": "3.8.8"
  }
 },
 "nbformat": 4,
 "nbformat_minor": 5
}
